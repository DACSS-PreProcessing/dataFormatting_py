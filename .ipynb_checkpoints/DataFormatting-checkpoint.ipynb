{
 "cells": [
  {
   "cell_type": "markdown",
   "metadata": {},
   "source": [
    "<center><img src=\"https://github.com/DACSS-PreProcessing/Week_1_main/blob/main/pics/LogoSimple.png?raw=true\" width=\"700\"></center>"
   ]
  },
  {
   "cell_type": "markdown",
   "metadata": {},
   "source": [
    "# Data Formatting in Python"
   ]
  },
  {
   "cell_type": "markdown",
   "metadata": {},
   "source": [
    "Let me collect some data from the [web](https://en.wikipedia.org/wiki/List_of_freedom_indices):"
   ]
  },
  {
   "cell_type": "code",
   "execution_count": 419,
   "metadata": {},
   "outputs": [
    {
     "data": {
      "text/plain": [
       "2"
      ]
     },
     "execution_count": 419,
     "metadata": {},
     "output_type": "execute_result"
    }
   ],
   "source": [
    "import pandas as pd\n",
    "\n",
    "wikiLink=\"https://en.wikipedia.org/wiki/List_of_freedom_indices\" \n",
    "freedomDFs=pd.read_html(wikiLink, flavor='bs4',attrs={'class':'sortable'})\n",
    "len(freedomDFs)"
   ]
  },
  {
   "cell_type": "markdown",
   "metadata": {},
   "source": [
    "The one we need is the first one:"
   ]
  },
  {
   "cell_type": "code",
   "execution_count": 420,
   "metadata": {},
   "outputs": [
    {
     "data": {
      "text/html": [
       "<div>\n",
       "<style scoped>\n",
       "    .dataframe tbody tr th:only-of-type {\n",
       "        vertical-align: middle;\n",
       "    }\n",
       "\n",
       "    .dataframe tbody tr th {\n",
       "        vertical-align: top;\n",
       "    }\n",
       "\n",
       "    .dataframe thead th {\n",
       "        text-align: right;\n",
       "    }\n",
       "</style>\n",
       "<table border=\"1\" class=\"dataframe\">\n",
       "  <thead>\n",
       "    <tr style=\"text-align: right;\">\n",
       "      <th></th>\n",
       "      <th>Country</th>\n",
       "      <th>Freedom in the World 2024[16]</th>\n",
       "      <th>Score change since 2023</th>\n",
       "      <th>Index of Economic Freedom 2024[17]</th>\n",
       "      <th>Score</th>\n",
       "      <th>Press Freedom Index 2023[3]</th>\n",
       "      <th>Score.1</th>\n",
       "      <th>Democracy Index 2023[18]</th>\n",
       "      <th>Score.2</th>\n",
       "    </tr>\n",
       "  </thead>\n",
       "  <tbody>\n",
       "    <tr>\n",
       "      <th>0</th>\n",
       "      <td>Finland</td>\n",
       "      <td>100.0</td>\n",
       "      <td>0</td>\n",
       "      <td>mostly free</td>\n",
       "      <td>76.3</td>\n",
       "      <td>good</td>\n",
       "      <td>87.94</td>\n",
       "      <td>full democracy</td>\n",
       "      <td>9.30</td>\n",
       "    </tr>\n",
       "    <tr>\n",
       "      <th>1</th>\n",
       "      <td>New Zealand</td>\n",
       "      <td>99.0</td>\n",
       "      <td>0</td>\n",
       "      <td>mostly free</td>\n",
       "      <td>77.8</td>\n",
       "      <td>satisfactory</td>\n",
       "      <td>84.23</td>\n",
       "      <td>full democracy</td>\n",
       "      <td>9.61</td>\n",
       "    </tr>\n",
       "    <tr>\n",
       "      <th>2</th>\n",
       "      <td>Sweden</td>\n",
       "      <td>99.0</td>\n",
       "      <td>-1</td>\n",
       "      <td>mostly free</td>\n",
       "      <td>77.5</td>\n",
       "      <td>good</td>\n",
       "      <td>88.15</td>\n",
       "      <td>full democracy</td>\n",
       "      <td>9.39</td>\n",
       "    </tr>\n",
       "    <tr>\n",
       "      <th>3</th>\n",
       "      <td>Norway</td>\n",
       "      <td>98.0</td>\n",
       "      <td>-2</td>\n",
       "      <td>mostly free</td>\n",
       "      <td>77.5</td>\n",
       "      <td>good</td>\n",
       "      <td>95.18</td>\n",
       "      <td>full democracy</td>\n",
       "      <td>9.81</td>\n",
       "    </tr>\n",
       "    <tr>\n",
       "      <th>4</th>\n",
       "      <td>Canada</td>\n",
       "      <td>97.0</td>\n",
       "      <td>-1</td>\n",
       "      <td>mostly free</td>\n",
       "      <td>72.4</td>\n",
       "      <td>satisfactory</td>\n",
       "      <td>83.53</td>\n",
       "      <td>full democracy</td>\n",
       "      <td>8.69</td>\n",
       "    </tr>\n",
       "  </tbody>\n",
       "</table>\n",
       "</div>"
      ],
      "text/plain": [
       "       Country  Freedom in the World 2024[16] Score change since 2023  \\\n",
       "0      Finland                          100.0                       0   \n",
       "1  New Zealand                           99.0                       0   \n",
       "2       Sweden                           99.0                      -1   \n",
       "3       Norway                           98.0                      -2   \n",
       "4       Canada                           97.0                      -1   \n",
       "\n",
       "  Index of Economic Freedom 2024[17] Score Press Freedom Index 2023[3]  \\\n",
       "0                        mostly free  76.3                        good   \n",
       "1                        mostly free  77.8                satisfactory   \n",
       "2                        mostly free  77.5                        good   \n",
       "3                        mostly free  77.5                        good   \n",
       "4                        mostly free  72.4                satisfactory   \n",
       "\n",
       "  Score.1 Democracy Index 2023[18] Score.2  \n",
       "0   87.94           full democracy    9.30  \n",
       "1   84.23           full democracy    9.61  \n",
       "2   88.15           full democracy    9.39  \n",
       "3   95.18           full democracy    9.81  \n",
       "4   83.53           full democracy    8.69  "
      ]
     },
     "execution_count": 420,
     "metadata": {},
     "output_type": "execute_result"
    }
   ],
   "source": [
    "freedomDFs[0].head()"
   ]
  },
  {
   "cell_type": "markdown",
   "metadata": {},
   "source": [
    "Let's keep it:"
   ]
  },
  {
   "cell_type": "code",
   "execution_count": 421,
   "metadata": {},
   "outputs": [
    {
     "data": {
      "text/html": [
       "<div>\n",
       "<style scoped>\n",
       "    .dataframe tbody tr th:only-of-type {\n",
       "        vertical-align: middle;\n",
       "    }\n",
       "\n",
       "    .dataframe tbody tr th {\n",
       "        vertical-align: top;\n",
       "    }\n",
       "\n",
       "    .dataframe thead th {\n",
       "        text-align: right;\n",
       "    }\n",
       "</style>\n",
       "<table border=\"1\" class=\"dataframe\">\n",
       "  <thead>\n",
       "    <tr style=\"text-align: right;\">\n",
       "      <th></th>\n",
       "      <th>Country</th>\n",
       "      <th>Freedom in the World 2024[16]</th>\n",
       "      <th>Score change since 2023</th>\n",
       "      <th>Index of Economic Freedom 2024[17]</th>\n",
       "      <th>Score</th>\n",
       "      <th>Press Freedom Index 2023[3]</th>\n",
       "      <th>Score.1</th>\n",
       "      <th>Democracy Index 2023[18]</th>\n",
       "      <th>Score.2</th>\n",
       "    </tr>\n",
       "  </thead>\n",
       "  <tbody>\n",
       "    <tr>\n",
       "      <th>0</th>\n",
       "      <td>Finland</td>\n",
       "      <td>100.0</td>\n",
       "      <td>0</td>\n",
       "      <td>mostly free</td>\n",
       "      <td>76.3</td>\n",
       "      <td>good</td>\n",
       "      <td>87.94</td>\n",
       "      <td>full democracy</td>\n",
       "      <td>9.30</td>\n",
       "    </tr>\n",
       "    <tr>\n",
       "      <th>1</th>\n",
       "      <td>New Zealand</td>\n",
       "      <td>99.0</td>\n",
       "      <td>0</td>\n",
       "      <td>mostly free</td>\n",
       "      <td>77.8</td>\n",
       "      <td>satisfactory</td>\n",
       "      <td>84.23</td>\n",
       "      <td>full democracy</td>\n",
       "      <td>9.61</td>\n",
       "    </tr>\n",
       "    <tr>\n",
       "      <th>2</th>\n",
       "      <td>Sweden</td>\n",
       "      <td>99.0</td>\n",
       "      <td>-1</td>\n",
       "      <td>mostly free</td>\n",
       "      <td>77.5</td>\n",
       "      <td>good</td>\n",
       "      <td>88.15</td>\n",
       "      <td>full democracy</td>\n",
       "      <td>9.39</td>\n",
       "    </tr>\n",
       "    <tr>\n",
       "      <th>3</th>\n",
       "      <td>Norway</td>\n",
       "      <td>98.0</td>\n",
       "      <td>-2</td>\n",
       "      <td>mostly free</td>\n",
       "      <td>77.5</td>\n",
       "      <td>good</td>\n",
       "      <td>95.18</td>\n",
       "      <td>full democracy</td>\n",
       "      <td>9.81</td>\n",
       "    </tr>\n",
       "    <tr>\n",
       "      <th>4</th>\n",
       "      <td>Canada</td>\n",
       "      <td>97.0</td>\n",
       "      <td>-1</td>\n",
       "      <td>mostly free</td>\n",
       "      <td>72.4</td>\n",
       "      <td>satisfactory</td>\n",
       "      <td>83.53</td>\n",
       "      <td>full democracy</td>\n",
       "      <td>8.69</td>\n",
       "    </tr>\n",
       "  </tbody>\n",
       "</table>\n",
       "</div>"
      ],
      "text/plain": [
       "       Country  Freedom in the World 2024[16] Score change since 2023  \\\n",
       "0      Finland                          100.0                       0   \n",
       "1  New Zealand                           99.0                       0   \n",
       "2       Sweden                           99.0                      -1   \n",
       "3       Norway                           98.0                      -2   \n",
       "4       Canada                           97.0                      -1   \n",
       "\n",
       "  Index of Economic Freedom 2024[17] Score Press Freedom Index 2023[3]  \\\n",
       "0                        mostly free  76.3                        good   \n",
       "1                        mostly free  77.8                satisfactory   \n",
       "2                        mostly free  77.5                        good   \n",
       "3                        mostly free  77.5                        good   \n",
       "4                        mostly free  72.4                satisfactory   \n",
       "\n",
       "  Score.1 Democracy Index 2023[18] Score.2  \n",
       "0   87.94           full democracy    9.30  \n",
       "1   84.23           full democracy    9.61  \n",
       "2   88.15           full democracy    9.39  \n",
       "3   95.18           full democracy    9.81  \n",
       "4   83.53           full democracy    8.69  "
      ]
     },
     "execution_count": 421,
     "metadata": {},
     "output_type": "execute_result"
    }
   ],
   "source": [
    "freedom=freedomDFs[0].copy()\n",
    "freedom.head()"
   ]
  },
  {
   "cell_type": "markdown",
   "metadata": {},
   "source": [
    "## The cleaning process\n",
    "\n",
    "### The headers\n",
    "\n",
    "We need to clean before formatting."
   ]
  },
  {
   "cell_type": "code",
   "execution_count": 422,
   "metadata": {},
   "outputs": [
    {
     "data": {
      "text/plain": [
       "Index(['Country', 'Freedom in the World 2024[16]', 'Score change since 2023',\n",
       "       'Index of Economic Freedom 2024[17]', 'Score',\n",
       "       'Press Freedom Index 2023[3]', 'Score.1', 'Democracy Index 2023[18]',\n",
       "       'Score.2'],\n",
       "      dtype='object')"
      ]
     },
     "execution_count": 422,
     "metadata": {},
     "output_type": "execute_result"
    }
   ],
   "source": [
    "# check headers\n",
    "freedom.columns"
   ]
  },
  {
   "cell_type": "markdown",
   "metadata": {},
   "source": [
    "The plan here is:\n",
    "\n",
    "1. No footnotes\n",
    "2. No year\n",
    "3. No trailing/leading spaces\n",
    "4. Title case for all names\n",
    "5. No unwanted columns (third column)\n",
    "6. No repeated columns names nor repeated words among them\n",
    "7. Names with no spaces\n",
    "\n",
    "This will solve the first four requests:"
   ]
  },
  {
   "cell_type": "code",
   "execution_count": 423,
   "metadata": {},
   "outputs": [
    {
     "data": {
      "text/plain": [
       "Index(['Country', 'Freedom In The World', 'Score Change Since',\n",
       "       'Index Of Economic Freedom', 'Score', 'Press Freedom Index', 'Score.1',\n",
       "       'Democracy Index', 'Score.2'],\n",
       "      dtype='object')"
      ]
     },
     "execution_count": 423,
     "metadata": {},
     "output_type": "execute_result"
    }
   ],
   "source": [
    "patternFootnotes=r'\\[.*\\]'\n",
    "patternYear=r'\\d{4}'\n",
    "pattern_NoYear_NoFootns=r'\\[.*\\]|\\d{4}' # this shortens coding\n",
    "\n",
    "freedom.columns=freedom.columns.str.replace(pattern_NoYear_NoFootns,\"\",regex=True).str.strip().str.title()\n",
    "freedom.columns"
   ]
  },
  {
   "cell_type": "markdown",
   "metadata": {},
   "source": [
    "This will solve the fifth one:"
   ]
  },
  {
   "cell_type": "code",
   "execution_count": 424,
   "metadata": {},
   "outputs": [
    {
     "data": {
      "text/plain": [
       "Index(['Country', 'Freedom In The World', 'Index Of Economic Freedom', 'Score',\n",
       "       'Press Freedom Index', 'Score.1', 'Democracy Index', 'Score.2'],\n",
       "      dtype='object')"
      ]
     },
     "execution_count": 424,
     "metadata": {},
     "output_type": "execute_result"
    }
   ],
   "source": [
    "freedom.drop(freedom.columns[2], axis=1,inplace=True)\n",
    "freedom.columns"
   ]
  },
  {
   "cell_type": "markdown",
   "metadata": {},
   "source": [
    "This will solve the last two ones:"
   ]
  },
  {
   "cell_type": "code",
   "execution_count": 425,
   "metadata": {},
   "outputs": [
    {
     "data": {
      "text/html": [
       "<div>\n",
       "<style scoped>\n",
       "    .dataframe tbody tr th:only-of-type {\n",
       "        vertical-align: middle;\n",
       "    }\n",
       "\n",
       "    .dataframe tbody tr th {\n",
       "        vertical-align: top;\n",
       "    }\n",
       "\n",
       "    .dataframe thead th {\n",
       "        text-align: right;\n",
       "    }\n",
       "</style>\n",
       "<table border=\"1\" class=\"dataframe\">\n",
       "  <thead>\n",
       "    <tr style=\"text-align: right;\">\n",
       "      <th></th>\n",
       "      <th>Country</th>\n",
       "      <th>World</th>\n",
       "      <th>Economic</th>\n",
       "      <th>Economic_Score</th>\n",
       "      <th>Press</th>\n",
       "      <th>Press_Score</th>\n",
       "      <th>Democracy</th>\n",
       "      <th>Democracy_Score</th>\n",
       "    </tr>\n",
       "  </thead>\n",
       "  <tbody>\n",
       "    <tr>\n",
       "      <th>0</th>\n",
       "      <td>Finland</td>\n",
       "      <td>100.0</td>\n",
       "      <td>mostly free</td>\n",
       "      <td>76.3</td>\n",
       "      <td>good</td>\n",
       "      <td>87.94</td>\n",
       "      <td>full democracy</td>\n",
       "      <td>9.30</td>\n",
       "    </tr>\n",
       "    <tr>\n",
       "      <th>1</th>\n",
       "      <td>New Zealand</td>\n",
       "      <td>99.0</td>\n",
       "      <td>mostly free</td>\n",
       "      <td>77.8</td>\n",
       "      <td>satisfactory</td>\n",
       "      <td>84.23</td>\n",
       "      <td>full democracy</td>\n",
       "      <td>9.61</td>\n",
       "    </tr>\n",
       "    <tr>\n",
       "      <th>2</th>\n",
       "      <td>Sweden</td>\n",
       "      <td>99.0</td>\n",
       "      <td>mostly free</td>\n",
       "      <td>77.5</td>\n",
       "      <td>good</td>\n",
       "      <td>88.15</td>\n",
       "      <td>full democracy</td>\n",
       "      <td>9.39</td>\n",
       "    </tr>\n",
       "    <tr>\n",
       "      <th>3</th>\n",
       "      <td>Norway</td>\n",
       "      <td>98.0</td>\n",
       "      <td>mostly free</td>\n",
       "      <td>77.5</td>\n",
       "      <td>good</td>\n",
       "      <td>95.18</td>\n",
       "      <td>full democracy</td>\n",
       "      <td>9.81</td>\n",
       "    </tr>\n",
       "    <tr>\n",
       "      <th>4</th>\n",
       "      <td>Canada</td>\n",
       "      <td>97.0</td>\n",
       "      <td>mostly free</td>\n",
       "      <td>72.4</td>\n",
       "      <td>satisfactory</td>\n",
       "      <td>83.53</td>\n",
       "      <td>full democracy</td>\n",
       "      <td>8.69</td>\n",
       "    </tr>\n",
       "    <tr>\n",
       "      <th>...</th>\n",
       "      <td>...</td>\n",
       "      <td>...</td>\n",
       "      <td>...</td>\n",
       "      <td>...</td>\n",
       "      <td>...</td>\n",
       "      <td>...</td>\n",
       "      <td>...</td>\n",
       "      <td>...</td>\n",
       "    </tr>\n",
       "    <tr>\n",
       "      <th>192</th>\n",
       "      <td>North Korea</td>\n",
       "      <td>3.0</td>\n",
       "      <td>repressed</td>\n",
       "      <td>2.9</td>\n",
       "      <td>very serious</td>\n",
       "      <td>21.72</td>\n",
       "      <td>authoritarian</td>\n",
       "      <td>1.08</td>\n",
       "    </tr>\n",
       "    <tr>\n",
       "      <th>193</th>\n",
       "      <td>Turkmenistan</td>\n",
       "      <td>2.0</td>\n",
       "      <td>repressed</td>\n",
       "      <td>46.3</td>\n",
       "      <td>very serious</td>\n",
       "      <td>25.82</td>\n",
       "      <td>authoritarian</td>\n",
       "      <td>1.66</td>\n",
       "    </tr>\n",
       "    <tr>\n",
       "      <th>194</th>\n",
       "      <td>South Sudan</td>\n",
       "      <td>1.0</td>\n",
       "      <td>NaN</td>\n",
       "      <td>—</td>\n",
       "      <td>difficult</td>\n",
       "      <td>50.62</td>\n",
       "      <td>NaN</td>\n",
       "      <td>—</td>\n",
       "    </tr>\n",
       "    <tr>\n",
       "      <th>195</th>\n",
       "      <td>Syria</td>\n",
       "      <td>1.0</td>\n",
       "      <td>NaN</td>\n",
       "      <td>—</td>\n",
       "      <td>very serious</td>\n",
       "      <td>27.22</td>\n",
       "      <td>authoritarian</td>\n",
       "      <td>1.43</td>\n",
       "    </tr>\n",
       "    <tr>\n",
       "      <th>196</th>\n",
       "      <td>Palestine</td>\n",
       "      <td>NaN</td>\n",
       "      <td>NaN</td>\n",
       "      <td>—</td>\n",
       "      <td>very serious</td>\n",
       "      <td>37.86</td>\n",
       "      <td>authoritarian</td>\n",
       "      <td>3.47</td>\n",
       "    </tr>\n",
       "  </tbody>\n",
       "</table>\n",
       "<p>197 rows × 8 columns</p>\n",
       "</div>"
      ],
      "text/plain": [
       "          Country  World     Economic Economic_Score         Press  \\\n",
       "0         Finland  100.0  mostly free           76.3          good   \n",
       "1     New Zealand   99.0  mostly free           77.8  satisfactory   \n",
       "2          Sweden   99.0  mostly free           77.5          good   \n",
       "3          Norway   98.0  mostly free           77.5          good   \n",
       "4          Canada   97.0  mostly free           72.4  satisfactory   \n",
       "..            ...    ...          ...            ...           ...   \n",
       "192   North Korea    3.0    repressed            2.9  very serious   \n",
       "193  Turkmenistan    2.0    repressed           46.3  very serious   \n",
       "194   South Sudan    1.0          NaN              —     difficult   \n",
       "195         Syria    1.0          NaN              —  very serious   \n",
       "196     Palestine    NaN          NaN              —  very serious   \n",
       "\n",
       "    Press_Score       Democracy Democracy_Score  \n",
       "0         87.94  full democracy            9.30  \n",
       "1         84.23  full democracy            9.61  \n",
       "2         88.15  full democracy            9.39  \n",
       "3         95.18  full democracy            9.81  \n",
       "4         83.53  full democracy            8.69  \n",
       "..          ...             ...             ...  \n",
       "192       21.72   authoritarian            1.08  \n",
       "193       25.82   authoritarian            1.66  \n",
       "194       50.62             NaN               —  \n",
       "195       27.22   authoritarian            1.43  \n",
       "196       37.86   authoritarian            3.47  \n",
       "\n",
       "[197 rows x 8 columns]"
      ]
     },
     "execution_count": 425,
     "metadata": {},
     "output_type": "execute_result"
    }
   ],
   "source": [
    "freedom.columns=freedom.columns.str.replace(r\"\\s|Index|Of|Freedom|In|The\",\"\",regex=True)\n",
    "newNamesForScores={bad:better for bad,better in zip(freedom.columns[3::2],freedom.columns[2::2]+'_Score')}\n",
    "freedom.rename(columns=newNamesForScores,inplace=True)\n",
    "freedom"
   ]
  },
  {
   "cell_type": "markdown",
   "metadata": {},
   "source": [
    "Since we have Freedom in the World as a _score_, let's rename it:"
   ]
  },
  {
   "cell_type": "code",
   "execution_count": 426,
   "metadata": {},
   "outputs": [],
   "source": [
    "freedom.rename(columns={'World':'World_Score'},inplace=True)"
   ]
  },
  {
   "cell_type": "markdown",
   "metadata": {},
   "source": [
    "### The Contents\n",
    "\n",
    "The plan at this stage is:\n",
    "\n",
    "1. Do preventive cleaning in text cell: get rid of trailing/leading spaces in cells with strings.\n",
    "2. Verify the levels of categorical values have no misstypings\n",
    "3. Check what is causing that numeric data columns are interpreted in a differen way.\n",
    "\n",
    "Let's do the first step:"
   ]
  },
  {
   "cell_type": "code",
   "execution_count": 427,
   "metadata": {},
   "outputs": [],
   "source": [
    "# all the text cell are in this columns: freedom.iloc[:,0::2]\n",
    "\n",
    "freedom.iloc[:,0::2]=freedom.iloc[:,0::2].apply(lambda x:x.str.strip())"
   ]
  },
  {
   "cell_type": "markdown",
   "metadata": {},
   "source": [
    "Let's do the second one:"
   ]
  },
  {
   "cell_type": "code",
   "execution_count": 428,
   "metadata": {},
   "outputs": [
    {
     "data": {
      "text/plain": [
       "array([array(['mostly free', 'free', nan, 'moderately free', 'mostly unfree',\n",
       "              'repressed'], dtype=object)                                    ,\n",
       "       array(['good', 'satisfactory', nan, 'problematic', 'difficult',\n",
       "              'very serious'], dtype=object)                          ,\n",
       "       array(['full democracy', nan, 'flawed democracy', 'hybrid regime',\n",
       "              'authoritarian'], dtype=object)                            ],\n",
       "      dtype=object)"
      ]
     },
     "execution_count": 428,
     "metadata": {},
     "output_type": "execute_result"
    }
   ],
   "source": [
    "# just an exploration.\n",
    "freedom.iloc[:,2::2].apply(lambda x: pd.unique(x)).values"
   ]
  },
  {
   "cell_type": "markdown",
   "metadata": {},
   "source": [
    "The categories are well written.\n",
    "\n",
    "Let's do the third step; here, we see how the numeric columns are identified:"
   ]
  },
  {
   "cell_type": "code",
   "execution_count": 429,
   "metadata": {},
   "outputs": [
    {
     "name": "stdout",
     "output_type": "stream",
     "text": [
      "<class 'pandas.core.frame.DataFrame'>\n",
      "RangeIndex: 197 entries, 0 to 196\n",
      "Data columns (total 4 columns):\n",
      " #   Column           Non-Null Count  Dtype  \n",
      "---  ------           --------------  -----  \n",
      " 0   World_Score      196 non-null    float64\n",
      " 1   Economic_Score   197 non-null    object \n",
      " 2   Press_Score      197 non-null    object \n",
      " 3   Democracy_Score  197 non-null    object \n",
      "dtypes: float64(1), object(3)\n",
      "memory usage: 6.3+ KB\n"
     ]
    }
   ],
   "source": [
    "freedom.iloc[:,1::2].info()"
   ]
  },
  {
   "cell_type": "markdown",
   "metadata": {},
   "source": [
    "Let's check why some column scores are \"object\":"
   ]
  },
  {
   "cell_type": "code",
   "execution_count": 430,
   "metadata": {},
   "outputs": [
    {
     "data": {
      "text/html": [
       "<div>\n",
       "<style scoped>\n",
       "    .dataframe tbody tr th:only-of-type {\n",
       "        vertical-align: middle;\n",
       "    }\n",
       "\n",
       "    .dataframe tbody tr th {\n",
       "        vertical-align: top;\n",
       "    }\n",
       "\n",
       "    .dataframe thead th {\n",
       "        text-align: right;\n",
       "    }\n",
       "</style>\n",
       "<table border=\"1\" class=\"dataframe\">\n",
       "  <thead>\n",
       "    <tr style=\"text-align: right;\">\n",
       "      <th></th>\n",
       "      <th>Economic_Score</th>\n",
       "      <th>Press_Score</th>\n",
       "      <th>Democracy_Score</th>\n",
       "    </tr>\n",
       "  </thead>\n",
       "  <tbody>\n",
       "    <tr>\n",
       "      <th>0</th>\n",
       "      <td>—</td>\n",
       "      <td>—</td>\n",
       "      <td>—</td>\n",
       "    </tr>\n",
       "  </tbody>\n",
       "</table>\n",
       "</div>"
      ],
      "text/plain": [
       "  Economic_Score Press_Score Democracy_Score\n",
       "0              —           —               —"
      ]
     },
     "execution_count": 430,
     "metadata": {},
     "output_type": "execute_result"
    }
   ],
   "source": [
    "# show me the cells that do not resemble numeric as xx.xx:\n",
    "freedom.iloc[:,3::2].apply(lambda x: pd.unique(x[~x.str.contains(r'^\\d+.*\\d*$')]))"
   ]
  },
  {
   "cell_type": "markdown",
   "metadata": {},
   "source": [
    "I am showing what inappropriate symbol is present in each column. \n",
    "Imagine you had more wrong values:"
   ]
  },
  {
   "cell_type": "code",
   "execution_count": 431,
   "metadata": {},
   "outputs": [
    {
     "data": {
      "text/plain": [
       "'76.3'"
      ]
     },
     "execution_count": 431,
     "metadata": {},
     "output_type": "execute_result"
    }
   ],
   "source": [
    "# instead of\n",
    "freedom.loc[0,'Economic_Score']"
   ]
  },
  {
   "cell_type": "code",
   "execution_count": 432,
   "metadata": {},
   "outputs": [],
   "source": [
    "# this\n",
    "freedom.loc[0,'Economic_Score']='X'"
   ]
  },
  {
   "cell_type": "markdown",
   "metadata": {},
   "source": [
    "You would get this:"
   ]
  },
  {
   "cell_type": "code",
   "execution_count": 433,
   "metadata": {},
   "outputs": [
    {
     "data": {
      "text/plain": [
       "Economic_Score     [X, —]\n",
       "Press_Score           [—]\n",
       "Democracy_Score       [—]\n",
       "dtype: object"
      ]
     },
     "execution_count": 433,
     "metadata": {},
     "output_type": "execute_result"
    }
   ],
   "source": [
    "freedom.iloc[:,3::2].apply(lambda x: pd.unique(x[~x.str.contains(r'^\\d+.*\\d*$')]))"
   ]
  },
  {
   "cell_type": "markdown",
   "metadata": {},
   "source": [
    "Then, the general way to recover this values could be:"
   ]
  },
  {
   "cell_type": "code",
   "execution_count": 434,
   "metadata": {},
   "outputs": [
    {
     "data": {
      "text/plain": [
       "{'X', '—'}"
      ]
     },
     "execution_count": 434,
     "metadata": {},
     "output_type": "execute_result"
    }
   ],
   "source": [
    "import numpy as np\n",
    "\n",
    "set(np.concatenate(freedom.iloc[:,3::2].apply(lambda x: pd.unique(x[~x.str.contains(r'^\\d+.*\\d*$')])).values))"
   ]
  },
  {
   "cell_type": "markdown",
   "metadata": {},
   "source": [
    "Let me undo the change:"
   ]
  },
  {
   "cell_type": "code",
   "execution_count": 435,
   "metadata": {},
   "outputs": [],
   "source": [
    "freedom.loc[0,'Economic_Score']='76.3'"
   ]
  },
  {
   "cell_type": "markdown",
   "metadata": {},
   "source": [
    "Let's continue.\n",
    "\n",
    "Those characters are used to show missing values. We need to get rid of them in a **proper way**:\n",
    "\n",
    "* Identify the character:"
   ]
  },
  {
   "cell_type": "code",
   "execution_count": 436,
   "metadata": {},
   "outputs": [],
   "source": [
    "badSymbols=set(freedom.iloc[:,3::2].apply(lambda x: pd.unique(x[~x.str.contains(r'^\\d+.*\\d*$')])).values.flatten())"
   ]
  },
  {
   "cell_type": "markdown",
   "metadata": {},
   "source": [
    "* Replace those by missing values:"
   ]
  },
  {
   "cell_type": "code",
   "execution_count": 437,
   "metadata": {},
   "outputs": [],
   "source": [
    "\n",
    "freedom.iloc[:,3::2]=freedom.iloc[:,3::2].replace({badSymbol:None})"
   ]
  },
  {
   "cell_type": "markdown",
   "metadata": {},
   "source": [
    "* If needed, keep complete data:"
   ]
  },
  {
   "cell_type": "code",
   "execution_count": 438,
   "metadata": {},
   "outputs": [],
   "source": [
    "freedom.dropna(how='any', ignore_index=True, inplace=True) "
   ]
  },
  {
   "cell_type": "markdown",
   "metadata": {},
   "source": [
    "# Time to format the data\n",
    "\n",
    "When formatting data we pay attention to the data contents.\n",
    "The data contents are clean, but not yet formatted:"
   ]
  },
  {
   "cell_type": "code",
   "execution_count": 439,
   "metadata": {},
   "outputs": [
    {
     "name": "stdout",
     "output_type": "stream",
     "text": [
      "<class 'pandas.core.frame.DataFrame'>\n",
      "RangeIndex: 159 entries, 0 to 158\n",
      "Data columns (total 8 columns):\n",
      " #   Column           Non-Null Count  Dtype  \n",
      "---  ------           --------------  -----  \n",
      " 0   Country          159 non-null    object \n",
      " 1   World_Score      159 non-null    float64\n",
      " 2   Economic         159 non-null    object \n",
      " 3   Economic_Score   159 non-null    object \n",
      " 4   Press            159 non-null    object \n",
      " 5   Press_Score      159 non-null    object \n",
      " 6   Democracy        159 non-null    object \n",
      " 7   Democracy_Score  159 non-null    object \n",
      "dtypes: float64(1), object(7)\n",
      "memory usage: 10.1+ KB\n"
     ]
    }
   ],
   "source": [
    "freedom.info()"
   ]
  },
  {
   "cell_type": "markdown",
   "metadata": {},
   "source": [
    "## Formatting numerical values\n",
    "\n",
    "\n",
    "Let's format the numeric data using **pd.to_numeric**. \n",
    "\n",
    "Remember this:"
   ]
  },
  {
   "cell_type": "code",
   "execution_count": 440,
   "metadata": {},
   "outputs": [],
   "source": [
    "# gives an error\n",
    "# pd.to_numeric(pd.Series(['1','2','$3']),errors='raise')"
   ]
  },
  {
   "cell_type": "code",
   "execution_count": 441,
   "metadata": {},
   "outputs": [
    {
     "data": {
      "text/plain": [
       "0    1.0\n",
       "1    2.0\n",
       "2    NaN\n",
       "dtype: float64"
      ]
     },
     "execution_count": 441,
     "metadata": {},
     "output_type": "execute_result"
    }
   ],
   "source": [
    "# bad values to missing\n",
    "pd.to_numeric(pd.Series(['1','2','$3']),errors='coerce')"
   ]
  },
  {
   "cell_type": "code",
   "execution_count": 442,
   "metadata": {},
   "outputs": [
    {
     "data": {
      "text/plain": [
       "0     1\n",
       "1     2\n",
       "2    $3\n",
       "dtype: object"
      ]
     },
     "execution_count": 442,
     "metadata": {},
     "output_type": "execute_result"
    }
   ],
   "source": [
    "# bad values stay\n",
    "pd.to_numeric(pd.Series(['1','2','$3']),errors='ignore')"
   ]
  },
  {
   "cell_type": "markdown",
   "metadata": {},
   "source": [
    "You should not coerce, because you can be deleting good values which are poorly written. Then,"
   ]
  },
  {
   "cell_type": "code",
   "execution_count": 443,
   "metadata": {},
   "outputs": [
    {
     "name": "stdout",
     "output_type": "stream",
     "text": [
      "<class 'pandas.core.frame.DataFrame'>\n",
      "RangeIndex: 159 entries, 0 to 158\n",
      "Data columns (total 8 columns):\n",
      " #   Column           Non-Null Count  Dtype  \n",
      "---  ------           --------------  -----  \n",
      " 0   Country          159 non-null    object \n",
      " 1   World_Score      159 non-null    float64\n",
      " 2   Economic         159 non-null    object \n",
      " 3   Economic_Score   159 non-null    float64\n",
      " 4   Press            159 non-null    object \n",
      " 5   Press_Score      159 non-null    float64\n",
      " 6   Democracy        159 non-null    object \n",
      " 7   Democracy_Score  159 non-null    float64\n",
      "dtypes: float64(4), object(4)\n",
      "memory usage: 10.1+ KB\n"
     ]
    }
   ],
   "source": [
    "freedom[freedom.columns[3::2]]=freedom.iloc[:,3::2].apply(lambda x: pd.to_numeric(x,errors='raise'))\n",
    "\n",
    "freedom.info()"
   ]
  },
  {
   "cell_type": "markdown",
   "metadata": {},
   "source": [
    "Great! - the formatting did not abort.\n",
    "\n",
    "## Formatting the categories\n",
    "\n",
    "Our categories are ordinal:"
   ]
  },
  {
   "cell_type": "code",
   "execution_count": 444,
   "metadata": {},
   "outputs": [
    {
     "data": {
      "text/plain": [
       "array([array(['mostly free', 'free', 'moderately free', 'repressed',\n",
       "              'mostly unfree'], dtype=object)                       ,\n",
       "       array(['good', 'satisfactory', 'problematic', 'difficult', 'very serious'],\n",
       "             dtype=object)                                                        ,\n",
       "       array(['full democracy', 'flawed democracy', 'hybrid regime',\n",
       "              'authoritarian'], dtype=object)                       ],\n",
       "      dtype=object)"
      ]
     },
     "execution_count": 444,
     "metadata": {},
     "output_type": "execute_result"
    }
   ],
   "source": [
    "freedom.iloc[:,2::2].apply(lambda x: pd.unique(x)).values"
   ]
  },
  {
   "cell_type": "markdown",
   "metadata": {},
   "source": [
    "The plan is:\n",
    "\n",
    "1. Use integers instead of text, if labels are not the same. Use same values for max and min.\n",
    "2. Notice all scores have categories in another column, except 'World_Score'. Create his column of categories as integers.\n",
    "3. Create alternative columns, where you can write labels, but include numbers in the labels.\n",
    "\n",
    "This solves the first case:"
   ]
  },
  {
   "cell_type": "code",
   "execution_count": 445,
   "metadata": {},
   "outputs": [],
   "source": [
    "# maps for replacement: 1 the worst / 5 the best\n",
    "mapper1 = {'repressed':1, 'mostly unfree':2,'moderately free':3, 'mostly free':4, 'free':5}\n",
    "mapper2 = {'very serious':1, 'difficult':2,'problematic':3,'satisfactory':4,'good':5}\n",
    "mapper3 = {'authoritarian':1,'hybrid regime':2,'flawed democracy':4, 'full democracy':5}\n",
    "\n",
    "\n",
    "freedom.Economic.replace(mapper1,inplace=True)\n",
    "freedom.Press.replace(mapper2,inplace=True)\n",
    "freedom.Democracy.replace(mapper3,inplace=True)"
   ]
  },
  {
   "cell_type": "markdown",
   "metadata": {},
   "source": [
    "For the second case we can CUT the variable with qcut:"
   ]
  },
  {
   "cell_type": "code",
   "execution_count": 446,
   "metadata": {},
   "outputs": [
    {
     "data": {
      "text/plain": [
       "World\n",
       "2    51\n",
       "1    55\n",
       "0    53\n",
       "Name: count, dtype: int64"
      ]
     },
     "execution_count": 446,
     "metadata": {},
     "output_type": "execute_result"
    }
   ],
   "source": [
    "# from the methodology, the index has 3 levels, we use that:\n",
    "freedom['World']=pd.qcut(freedom.World_Score, 3, labels=False)\n",
    "freedom.World.value_counts(sort=False)"
   ]
  },
  {
   "cell_type": "code",
   "execution_count": 447,
   "metadata": {},
   "outputs": [],
   "source": [
    "# to standardize\n",
    "freedom.World.replace({0:1,1:3,2:5},inplace=True)"
   ]
  },
  {
   "cell_type": "code",
   "execution_count": 448,
   "metadata": {},
   "outputs": [
    {
     "data": {
      "text/html": [
       "<div>\n",
       "<style scoped>\n",
       "    .dataframe tbody tr th:only-of-type {\n",
       "        vertical-align: middle;\n",
       "    }\n",
       "\n",
       "    .dataframe tbody tr th {\n",
       "        vertical-align: top;\n",
       "    }\n",
       "\n",
       "    .dataframe thead th {\n",
       "        text-align: right;\n",
       "    }\n",
       "</style>\n",
       "<table border=\"1\" class=\"dataframe\">\n",
       "  <thead>\n",
       "    <tr style=\"text-align: right;\">\n",
       "      <th></th>\n",
       "      <th>Country</th>\n",
       "      <th>World_Score</th>\n",
       "      <th>Economic</th>\n",
       "      <th>Economic_Score</th>\n",
       "      <th>Press</th>\n",
       "      <th>Press_Score</th>\n",
       "      <th>Democracy</th>\n",
       "      <th>Democracy_Score</th>\n",
       "      <th>World</th>\n",
       "    </tr>\n",
       "  </thead>\n",
       "  <tbody>\n",
       "    <tr>\n",
       "      <th>0</th>\n",
       "      <td>Finland</td>\n",
       "      <td>100.0</td>\n",
       "      <td>4</td>\n",
       "      <td>76.3</td>\n",
       "      <td>5</td>\n",
       "      <td>87.94</td>\n",
       "      <td>5</td>\n",
       "      <td>9.30</td>\n",
       "      <td>5</td>\n",
       "    </tr>\n",
       "    <tr>\n",
       "      <th>1</th>\n",
       "      <td>New Zealand</td>\n",
       "      <td>99.0</td>\n",
       "      <td>4</td>\n",
       "      <td>77.8</td>\n",
       "      <td>4</td>\n",
       "      <td>84.23</td>\n",
       "      <td>5</td>\n",
       "      <td>9.61</td>\n",
       "      <td>5</td>\n",
       "    </tr>\n",
       "    <tr>\n",
       "      <th>2</th>\n",
       "      <td>Sweden</td>\n",
       "      <td>99.0</td>\n",
       "      <td>4</td>\n",
       "      <td>77.5</td>\n",
       "      <td>5</td>\n",
       "      <td>88.15</td>\n",
       "      <td>5</td>\n",
       "      <td>9.39</td>\n",
       "      <td>5</td>\n",
       "    </tr>\n",
       "    <tr>\n",
       "      <th>3</th>\n",
       "      <td>Norway</td>\n",
       "      <td>98.0</td>\n",
       "      <td>4</td>\n",
       "      <td>77.5</td>\n",
       "      <td>5</td>\n",
       "      <td>95.18</td>\n",
       "      <td>5</td>\n",
       "      <td>9.81</td>\n",
       "      <td>5</td>\n",
       "    </tr>\n",
       "    <tr>\n",
       "      <th>4</th>\n",
       "      <td>Canada</td>\n",
       "      <td>97.0</td>\n",
       "      <td>4</td>\n",
       "      <td>72.4</td>\n",
       "      <td>4</td>\n",
       "      <td>83.53</td>\n",
       "      <td>5</td>\n",
       "      <td>8.69</td>\n",
       "      <td>5</td>\n",
       "    </tr>\n",
       "  </tbody>\n",
       "</table>\n",
       "</div>"
      ],
      "text/plain": [
       "       Country  World_Score  Economic  Economic_Score  Press  Press_Score  \\\n",
       "0      Finland        100.0         4            76.3      5        87.94   \n",
       "1  New Zealand         99.0         4            77.8      4        84.23   \n",
       "2       Sweden         99.0         4            77.5      5        88.15   \n",
       "3       Norway         98.0         4            77.5      5        95.18   \n",
       "4       Canada         97.0         4            72.4      4        83.53   \n",
       "\n",
       "   Democracy  Democracy_Score  World  \n",
       "0          5             9.30      5  \n",
       "1          5             9.61      5  \n",
       "2          5             9.39      5  \n",
       "3          5             9.81      5  \n",
       "4          5             8.69      5  "
      ]
     },
     "execution_count": 448,
     "metadata": {},
     "output_type": "execute_result"
    }
   ],
   "source": [
    "# currently:\n",
    "freedom.head()"
   ]
  },
  {
   "cell_type": "code",
   "execution_count": 449,
   "metadata": {},
   "outputs": [
    {
     "name": "stdout",
     "output_type": "stream",
     "text": [
      "<class 'pandas.core.frame.DataFrame'>\n",
      "RangeIndex: 159 entries, 0 to 158\n",
      "Data columns (total 9 columns):\n",
      " #   Column           Non-Null Count  Dtype  \n",
      "---  ------           --------------  -----  \n",
      " 0   Country          159 non-null    object \n",
      " 1   World_Score      159 non-null    float64\n",
      " 2   Economic         159 non-null    int64  \n",
      " 3   Economic_Score   159 non-null    float64\n",
      " 4   Press            159 non-null    int64  \n",
      " 5   Press_Score      159 non-null    float64\n",
      " 6   Democracy        159 non-null    int64  \n",
      " 7   Democracy_Score  159 non-null    float64\n",
      " 8   World            159 non-null    int64  \n",
      "dtypes: float64(4), int64(4), object(1)\n",
      "memory usage: 11.3+ KB\n"
     ]
    }
   ],
   "source": [
    "freedom.info()"
   ]
  },
  {
   "cell_type": "markdown",
   "metadata": {},
   "source": [
    "Let me put the last variable in a better location:"
   ]
  },
  {
   "cell_type": "code",
   "execution_count": 450,
   "metadata": {},
   "outputs": [
    {
     "name": "stdout",
     "output_type": "stream",
     "text": [
      "<class 'pandas.core.frame.DataFrame'>\n",
      "RangeIndex: 159 entries, 0 to 158\n",
      "Data columns (total 9 columns):\n",
      " #   Column           Non-Null Count  Dtype  \n",
      "---  ------           --------------  -----  \n",
      " 0   Country          159 non-null    object \n",
      " 1   World            159 non-null    int64  \n",
      " 2   World_Score      159 non-null    float64\n",
      " 3   Economic         159 non-null    int64  \n",
      " 4   Economic_Score   159 non-null    float64\n",
      " 5   Press            159 non-null    int64  \n",
      " 6   Press_Score      159 non-null    float64\n",
      " 7   Democracy        159 non-null    int64  \n",
      " 8   Democracy_Score  159 non-null    float64\n",
      "dtypes: float64(4), int64(4), object(1)\n",
      "memory usage: 11.3+ KB\n"
     ]
    }
   ],
   "source": [
    "# just a trick\n",
    "freedom=freedom.set_index(['Country','World']).reset_index(drop=False)\n",
    "freedom.info()"
   ]
  },
  {
   "cell_type": "markdown",
   "metadata": {},
   "source": [
    "This is the last step:"
   ]
  },
  {
   "cell_type": "code",
   "execution_count": 451,
   "metadata": {},
   "outputs": [
    {
     "data": {
      "text/plain": [
       "Index(['World_Cat', 'Economic_Cat', 'Press_Cat', 'Democracy_Cat'], dtype='object')"
      ]
     },
     "execution_count": 451,
     "metadata": {},
     "output_type": "execute_result"
    }
   ],
   "source": [
    "# new column names\n",
    "newNames=freedom.columns[1::2]+'_Cat'\n",
    "newNames"
   ]
  },
  {
   "cell_type": "code",
   "execution_count": 452,
   "metadata": {},
   "outputs": [
    {
     "data": {
      "text/html": [
       "<div>\n",
       "<style scoped>\n",
       "    .dataframe tbody tr th:only-of-type {\n",
       "        vertical-align: middle;\n",
       "    }\n",
       "\n",
       "    .dataframe tbody tr th {\n",
       "        vertical-align: top;\n",
       "    }\n",
       "\n",
       "    .dataframe thead th {\n",
       "        text-align: right;\n",
       "    }\n",
       "</style>\n",
       "<table border=\"1\" class=\"dataframe\">\n",
       "  <thead>\n",
       "    <tr style=\"text-align: right;\">\n",
       "      <th></th>\n",
       "      <th>Country</th>\n",
       "      <th>World</th>\n",
       "      <th>World_Score</th>\n",
       "      <th>Economic</th>\n",
       "      <th>Economic_Score</th>\n",
       "      <th>Press</th>\n",
       "      <th>Press_Score</th>\n",
       "      <th>Democracy</th>\n",
       "      <th>Democracy_Score</th>\n",
       "      <th>World_Cat</th>\n",
       "      <th>Economic_Cat</th>\n",
       "      <th>Press_Cat</th>\n",
       "      <th>Democracy_Cat</th>\n",
       "    </tr>\n",
       "  </thead>\n",
       "  <tbody>\n",
       "    <tr>\n",
       "      <th>0</th>\n",
       "      <td>Finland</td>\n",
       "      <td>5</td>\n",
       "      <td>100.0</td>\n",
       "      <td>4</td>\n",
       "      <td>76.3</td>\n",
       "      <td>5</td>\n",
       "      <td>87.94</td>\n",
       "      <td>5</td>\n",
       "      <td>9.30</td>\n",
       "      <td>5</td>\n",
       "      <td>4</td>\n",
       "      <td>5</td>\n",
       "      <td>5</td>\n",
       "    </tr>\n",
       "    <tr>\n",
       "      <th>1</th>\n",
       "      <td>New Zealand</td>\n",
       "      <td>5</td>\n",
       "      <td>99.0</td>\n",
       "      <td>4</td>\n",
       "      <td>77.8</td>\n",
       "      <td>4</td>\n",
       "      <td>84.23</td>\n",
       "      <td>5</td>\n",
       "      <td>9.61</td>\n",
       "      <td>5</td>\n",
       "      <td>4</td>\n",
       "      <td>4</td>\n",
       "      <td>5</td>\n",
       "    </tr>\n",
       "    <tr>\n",
       "      <th>2</th>\n",
       "      <td>Sweden</td>\n",
       "      <td>5</td>\n",
       "      <td>99.0</td>\n",
       "      <td>4</td>\n",
       "      <td>77.5</td>\n",
       "      <td>5</td>\n",
       "      <td>88.15</td>\n",
       "      <td>5</td>\n",
       "      <td>9.39</td>\n",
       "      <td>5</td>\n",
       "      <td>4</td>\n",
       "      <td>5</td>\n",
       "      <td>5</td>\n",
       "    </tr>\n",
       "    <tr>\n",
       "      <th>3</th>\n",
       "      <td>Norway</td>\n",
       "      <td>5</td>\n",
       "      <td>98.0</td>\n",
       "      <td>4</td>\n",
       "      <td>77.5</td>\n",
       "      <td>5</td>\n",
       "      <td>95.18</td>\n",
       "      <td>5</td>\n",
       "      <td>9.81</td>\n",
       "      <td>5</td>\n",
       "      <td>4</td>\n",
       "      <td>5</td>\n",
       "      <td>5</td>\n",
       "    </tr>\n",
       "    <tr>\n",
       "      <th>4</th>\n",
       "      <td>Canada</td>\n",
       "      <td>5</td>\n",
       "      <td>97.0</td>\n",
       "      <td>4</td>\n",
       "      <td>72.4</td>\n",
       "      <td>4</td>\n",
       "      <td>83.53</td>\n",
       "      <td>5</td>\n",
       "      <td>8.69</td>\n",
       "      <td>5</td>\n",
       "      <td>4</td>\n",
       "      <td>4</td>\n",
       "      <td>5</td>\n",
       "    </tr>\n",
       "    <tr>\n",
       "      <th>...</th>\n",
       "      <td>...</td>\n",
       "      <td>...</td>\n",
       "      <td>...</td>\n",
       "      <td>...</td>\n",
       "      <td>...</td>\n",
       "      <td>...</td>\n",
       "      <td>...</td>\n",
       "      <td>...</td>\n",
       "      <td>...</td>\n",
       "      <td>...</td>\n",
       "      <td>...</td>\n",
       "      <td>...</td>\n",
       "      <td>...</td>\n",
       "    </tr>\n",
       "    <tr>\n",
       "      <th>154</th>\n",
       "      <td>Equatorial Guinea</td>\n",
       "      <td>1</td>\n",
       "      <td>5.0</td>\n",
       "      <td>1</td>\n",
       "      <td>47.7</td>\n",
       "      <td>2</td>\n",
       "      <td>50.35</td>\n",
       "      <td>1</td>\n",
       "      <td>1.92</td>\n",
       "      <td>1</td>\n",
       "      <td>1</td>\n",
       "      <td>2</td>\n",
       "      <td>1</td>\n",
       "    </tr>\n",
       "    <tr>\n",
       "      <th>155</th>\n",
       "      <td>Tajikistan</td>\n",
       "      <td>1</td>\n",
       "      <td>5.0</td>\n",
       "      <td>2</td>\n",
       "      <td>51.3</td>\n",
       "      <td>1</td>\n",
       "      <td>39.06</td>\n",
       "      <td>1</td>\n",
       "      <td>1.94</td>\n",
       "      <td>1</td>\n",
       "      <td>2</td>\n",
       "      <td>1</td>\n",
       "      <td>1</td>\n",
       "    </tr>\n",
       "    <tr>\n",
       "      <th>156</th>\n",
       "      <td>Eritrea</td>\n",
       "      <td>1</td>\n",
       "      <td>3.0</td>\n",
       "      <td>1</td>\n",
       "      <td>39.5</td>\n",
       "      <td>1</td>\n",
       "      <td>27.86</td>\n",
       "      <td>1</td>\n",
       "      <td>1.97</td>\n",
       "      <td>1</td>\n",
       "      <td>1</td>\n",
       "      <td>1</td>\n",
       "      <td>1</td>\n",
       "    </tr>\n",
       "    <tr>\n",
       "      <th>157</th>\n",
       "      <td>North Korea</td>\n",
       "      <td>1</td>\n",
       "      <td>3.0</td>\n",
       "      <td>1</td>\n",
       "      <td>2.9</td>\n",
       "      <td>1</td>\n",
       "      <td>21.72</td>\n",
       "      <td>1</td>\n",
       "      <td>1.08</td>\n",
       "      <td>1</td>\n",
       "      <td>1</td>\n",
       "      <td>1</td>\n",
       "      <td>1</td>\n",
       "    </tr>\n",
       "    <tr>\n",
       "      <th>158</th>\n",
       "      <td>Turkmenistan</td>\n",
       "      <td>1</td>\n",
       "      <td>2.0</td>\n",
       "      <td>1</td>\n",
       "      <td>46.3</td>\n",
       "      <td>1</td>\n",
       "      <td>25.82</td>\n",
       "      <td>1</td>\n",
       "      <td>1.66</td>\n",
       "      <td>1</td>\n",
       "      <td>1</td>\n",
       "      <td>1</td>\n",
       "      <td>1</td>\n",
       "    </tr>\n",
       "  </tbody>\n",
       "</table>\n",
       "<p>159 rows × 13 columns</p>\n",
       "</div>"
      ],
      "text/plain": [
       "               Country  World  World_Score  Economic  Economic_Score  Press  \\\n",
       "0              Finland      5        100.0         4            76.3      5   \n",
       "1          New Zealand      5         99.0         4            77.8      4   \n",
       "2               Sweden      5         99.0         4            77.5      5   \n",
       "3               Norway      5         98.0         4            77.5      5   \n",
       "4               Canada      5         97.0         4            72.4      4   \n",
       "..                 ...    ...          ...       ...             ...    ...   \n",
       "154  Equatorial Guinea      1          5.0         1            47.7      2   \n",
       "155         Tajikistan      1          5.0         2            51.3      1   \n",
       "156            Eritrea      1          3.0         1            39.5      1   \n",
       "157        North Korea      1          3.0         1             2.9      1   \n",
       "158       Turkmenistan      1          2.0         1            46.3      1   \n",
       "\n",
       "     Press_Score  Democracy  Democracy_Score  World_Cat  Economic_Cat  \\\n",
       "0          87.94          5             9.30          5             4   \n",
       "1          84.23          5             9.61          5             4   \n",
       "2          88.15          5             9.39          5             4   \n",
       "3          95.18          5             9.81          5             4   \n",
       "4          83.53          5             8.69          5             4   \n",
       "..           ...        ...              ...        ...           ...   \n",
       "154        50.35          1             1.92          1             1   \n",
       "155        39.06          1             1.94          1             2   \n",
       "156        27.86          1             1.97          1             1   \n",
       "157        21.72          1             1.08          1             1   \n",
       "158        25.82          1             1.66          1             1   \n",
       "\n",
       "     Press_Cat  Democracy_Cat  \n",
       "0            5              5  \n",
       "1            4              5  \n",
       "2            5              5  \n",
       "3            5              5  \n",
       "4            4              5  \n",
       "..         ...            ...  \n",
       "154          2              1  \n",
       "155          1              1  \n",
       "156          1              1  \n",
       "157          1              1  \n",
       "158          1              1  \n",
       "\n",
       "[159 rows x 13 columns]"
      ]
     },
     "execution_count": 452,
     "metadata": {},
     "output_type": "execute_result"
    }
   ],
   "source": [
    "# copy the previous values\n",
    "freedom[newNames]=freedom.iloc[:,1::2]\n",
    "freedom"
   ]
  },
  {
   "cell_type": "code",
   "execution_count": 453,
   "metadata": {},
   "outputs": [
    {
     "data": {
      "text/plain": [
       "0      5\n",
       "1      5\n",
       "2      5\n",
       "3      5\n",
       "4      5\n",
       "      ..\n",
       "154    1\n",
       "155    1\n",
       "156    1\n",
       "157    1\n",
       "158    1\n",
       "Name: World_Cat, Length: 159, dtype: category\n",
       "Categories (5, int64): [1 < 2 < 3 < 4 < 5]"
      ]
     },
     "execution_count": 453,
     "metadata": {},
     "output_type": "execute_result"
    }
   ],
   "source": [
    "# create the data type info\n",
    "from pandas.api.types import CategoricalDtype\n",
    "myOrdinal = CategoricalDtype(categories=[1,2,3,4,5], ordered=True)\n",
    "\n",
    "#one column\n",
    "freedom.loc[:,\"World_Cat\"].astype(myOrdinal)"
   ]
  },
  {
   "cell_type": "code",
   "execution_count": 454,
   "metadata": {},
   "outputs": [
    {
     "name": "stdout",
     "output_type": "stream",
     "text": [
      "<class 'pandas.core.frame.DataFrame'>\n",
      "RangeIndex: 159 entries, 0 to 158\n",
      "Data columns (total 13 columns):\n",
      " #   Column           Non-Null Count  Dtype   \n",
      "---  ------           --------------  -----   \n",
      " 0   Country          159 non-null    object  \n",
      " 1   World            159 non-null    int64   \n",
      " 2   World_Score      159 non-null    float64 \n",
      " 3   Economic         159 non-null    int64   \n",
      " 4   Economic_Score   159 non-null    float64 \n",
      " 5   Press            159 non-null    int64   \n",
      " 6   Press_Score      159 non-null    float64 \n",
      " 7   Democracy        159 non-null    int64   \n",
      " 8   Democracy_Score  159 non-null    float64 \n",
      " 9   World_Cat        159 non-null    category\n",
      " 10  Economic_Cat     159 non-null    category\n",
      " 11  Press_Cat        159 non-null    category\n",
      " 12  Democracy_Cat    159 non-null    category\n",
      "dtypes: category(4), float64(4), int64(4), object(1)\n",
      "memory usage: 12.8+ KB\n"
     ]
    }
   ],
   "source": [
    "# several columns\n",
    "freedom.loc[:,\"World_Cat\":]=freedom.loc[:,\"World_Cat\":].astype(myOrdinal)\n",
    "freedom.info()"
   ]
  },
  {
   "cell_type": "markdown",
   "metadata": {},
   "source": [
    "Finally, rename the labels:"
   ]
  },
  {
   "cell_type": "code",
   "execution_count": 455,
   "metadata": {},
   "outputs": [],
   "source": [
    "# rename the levels\n",
    "\n",
    "ordinalLevels={1:'1_veryLow',2:'2_low',3:'3_medium',4:'4_good',5:'5_veryGood'}\n",
    "\n",
    "renameLevels= lambda x:x.cat.rename_categories(ordinalLevels)\n",
    "\n",
    "freedom.loc[:,\"World_Cat\":]=freedom.loc[:,\"World_Cat\":].apply(renameLevels)"
   ]
  },
  {
   "cell_type": "markdown",
   "metadata": {},
   "source": [
    "The final result:"
   ]
  },
  {
   "cell_type": "code",
   "execution_count": 456,
   "metadata": {},
   "outputs": [
    {
     "name": "stdout",
     "output_type": "stream",
     "text": [
      "<class 'pandas.core.frame.DataFrame'>\n",
      "RangeIndex: 159 entries, 0 to 158\n",
      "Data columns (total 13 columns):\n",
      " #   Column           Non-Null Count  Dtype   \n",
      "---  ------           --------------  -----   \n",
      " 0   Country          159 non-null    object  \n",
      " 1   World            159 non-null    int64   \n",
      " 2   World_Score      159 non-null    float64 \n",
      " 3   Economic         159 non-null    int64   \n",
      " 4   Economic_Score   159 non-null    float64 \n",
      " 5   Press            159 non-null    int64   \n",
      " 6   Press_Score      159 non-null    float64 \n",
      " 7   Democracy        159 non-null    int64   \n",
      " 8   Democracy_Score  159 non-null    float64 \n",
      " 9   World_Cat        159 non-null    category\n",
      " 10  Economic_Cat     159 non-null    category\n",
      " 11  Press_Cat        159 non-null    category\n",
      " 12  Democracy_Cat    159 non-null    category\n",
      "dtypes: category(4), float64(4), int64(4), object(1)\n",
      "memory usage: 12.8+ KB\n"
     ]
    }
   ],
   "source": [
    "freedom.info()"
   ]
  },
  {
   "cell_type": "code",
   "execution_count": 457,
   "metadata": {},
   "outputs": [
    {
     "data": {
      "text/html": [
       "<div>\n",
       "<style scoped>\n",
       "    .dataframe tbody tr th:only-of-type {\n",
       "        vertical-align: middle;\n",
       "    }\n",
       "\n",
       "    .dataframe tbody tr th {\n",
       "        vertical-align: top;\n",
       "    }\n",
       "\n",
       "    .dataframe thead th {\n",
       "        text-align: right;\n",
       "    }\n",
       "</style>\n",
       "<table border=\"1\" class=\"dataframe\">\n",
       "  <thead>\n",
       "    <tr style=\"text-align: right;\">\n",
       "      <th></th>\n",
       "      <th>Country</th>\n",
       "      <th>World</th>\n",
       "      <th>World_Score</th>\n",
       "      <th>Economic</th>\n",
       "      <th>Economic_Score</th>\n",
       "      <th>Press</th>\n",
       "      <th>Press_Score</th>\n",
       "      <th>Democracy</th>\n",
       "      <th>Democracy_Score</th>\n",
       "      <th>World_Cat</th>\n",
       "      <th>Economic_Cat</th>\n",
       "      <th>Press_Cat</th>\n",
       "      <th>Democracy_Cat</th>\n",
       "    </tr>\n",
       "  </thead>\n",
       "  <tbody>\n",
       "    <tr>\n",
       "      <th>0</th>\n",
       "      <td>Finland</td>\n",
       "      <td>5</td>\n",
       "      <td>100.0</td>\n",
       "      <td>4</td>\n",
       "      <td>76.3</td>\n",
       "      <td>5</td>\n",
       "      <td>87.94</td>\n",
       "      <td>5</td>\n",
       "      <td>9.30</td>\n",
       "      <td>5_veryGood</td>\n",
       "      <td>4_good</td>\n",
       "      <td>5_veryGood</td>\n",
       "      <td>5_veryGood</td>\n",
       "    </tr>\n",
       "    <tr>\n",
       "      <th>1</th>\n",
       "      <td>New Zealand</td>\n",
       "      <td>5</td>\n",
       "      <td>99.0</td>\n",
       "      <td>4</td>\n",
       "      <td>77.8</td>\n",
       "      <td>4</td>\n",
       "      <td>84.23</td>\n",
       "      <td>5</td>\n",
       "      <td>9.61</td>\n",
       "      <td>5_veryGood</td>\n",
       "      <td>4_good</td>\n",
       "      <td>4_good</td>\n",
       "      <td>5_veryGood</td>\n",
       "    </tr>\n",
       "    <tr>\n",
       "      <th>2</th>\n",
       "      <td>Sweden</td>\n",
       "      <td>5</td>\n",
       "      <td>99.0</td>\n",
       "      <td>4</td>\n",
       "      <td>77.5</td>\n",
       "      <td>5</td>\n",
       "      <td>88.15</td>\n",
       "      <td>5</td>\n",
       "      <td>9.39</td>\n",
       "      <td>5_veryGood</td>\n",
       "      <td>4_good</td>\n",
       "      <td>5_veryGood</td>\n",
       "      <td>5_veryGood</td>\n",
       "    </tr>\n",
       "    <tr>\n",
       "      <th>3</th>\n",
       "      <td>Norway</td>\n",
       "      <td>5</td>\n",
       "      <td>98.0</td>\n",
       "      <td>4</td>\n",
       "      <td>77.5</td>\n",
       "      <td>5</td>\n",
       "      <td>95.18</td>\n",
       "      <td>5</td>\n",
       "      <td>9.81</td>\n",
       "      <td>5_veryGood</td>\n",
       "      <td>4_good</td>\n",
       "      <td>5_veryGood</td>\n",
       "      <td>5_veryGood</td>\n",
       "    </tr>\n",
       "    <tr>\n",
       "      <th>4</th>\n",
       "      <td>Canada</td>\n",
       "      <td>5</td>\n",
       "      <td>97.0</td>\n",
       "      <td>4</td>\n",
       "      <td>72.4</td>\n",
       "      <td>4</td>\n",
       "      <td>83.53</td>\n",
       "      <td>5</td>\n",
       "      <td>8.69</td>\n",
       "      <td>5_veryGood</td>\n",
       "      <td>4_good</td>\n",
       "      <td>4_good</td>\n",
       "      <td>5_veryGood</td>\n",
       "    </tr>\n",
       "  </tbody>\n",
       "</table>\n",
       "</div>"
      ],
      "text/plain": [
       "       Country  World  World_Score  Economic  Economic_Score  Press  \\\n",
       "0      Finland      5        100.0         4            76.3      5   \n",
       "1  New Zealand      5         99.0         4            77.8      4   \n",
       "2       Sweden      5         99.0         4            77.5      5   \n",
       "3       Norway      5         98.0         4            77.5      5   \n",
       "4       Canada      5         97.0         4            72.4      4   \n",
       "\n",
       "   Press_Score  Democracy  Democracy_Score   World_Cat Economic_Cat  \\\n",
       "0        87.94          5             9.30  5_veryGood       4_good   \n",
       "1        84.23          5             9.61  5_veryGood       4_good   \n",
       "2        88.15          5             9.39  5_veryGood       4_good   \n",
       "3        95.18          5             9.81  5_veryGood       4_good   \n",
       "4        83.53          5             8.69  5_veryGood       4_good   \n",
       "\n",
       "    Press_Cat Democracy_Cat  \n",
       "0  5_veryGood    5_veryGood  \n",
       "1      4_good    5_veryGood  \n",
       "2  5_veryGood    5_veryGood  \n",
       "3  5_veryGood    5_veryGood  \n",
       "4      4_good    5_veryGood  "
      ]
     },
     "execution_count": 457,
     "metadata": {},
     "output_type": "execute_result"
    }
   ],
   "source": [
    "freedom.head()"
   ]
  },
  {
   "cell_type": "markdown",
   "metadata": {},
   "source": [
    "We did not have dates in this data file, so let me check another case."
   ]
  },
  {
   "cell_type": "markdown",
   "metadata": {},
   "source": [
    "## Formatting Dates\n",
    "\n",
    "Let me get the data about [Fire 9-1-1  calls  from Seattle](https://dev.socrata.com/foundry/data.seattle.gov/kzjm-xkqj) we saw in the first week:"
   ]
  },
  {
   "cell_type": "code",
   "execution_count": 458,
   "metadata": {},
   "outputs": [],
   "source": [
    "import requests\n",
    "\n",
    "# where is it online?\n",
    "url = \"https://data.seattle.gov/resource/kzjm-xkqj.json\"\n",
    "\n",
    "# Go for the data:\n",
    "response = requests.get(url)\n",
    "\n",
    "# If we got the data:\n",
    "if response.status_code == 200:\n",
    "    data911 = response.json()"
   ]
  },
  {
   "cell_type": "code",
   "execution_count": 459,
   "metadata": {},
   "outputs": [],
   "source": [
    "# data911"
   ]
  },
  {
   "cell_type": "code",
   "execution_count": 460,
   "metadata": {},
   "outputs": [],
   "source": [
    "# You can turn it easily into a pandas data frame:\n",
    "import pandas as pd\n",
    "data911DF=pd.DataFrame(data911)"
   ]
  },
  {
   "cell_type": "code",
   "execution_count": 461,
   "metadata": {},
   "outputs": [
    {
     "data": {
      "text/html": [
       "<div>\n",
       "<style scoped>\n",
       "    .dataframe tbody tr th:only-of-type {\n",
       "        vertical-align: middle;\n",
       "    }\n",
       "\n",
       "    .dataframe tbody tr th {\n",
       "        vertical-align: top;\n",
       "    }\n",
       "\n",
       "    .dataframe thead th {\n",
       "        text-align: right;\n",
       "    }\n",
       "</style>\n",
       "<table border=\"1\" class=\"dataframe\">\n",
       "  <thead>\n",
       "    <tr style=\"text-align: right;\">\n",
       "      <th></th>\n",
       "      <th>address</th>\n",
       "      <th>type</th>\n",
       "      <th>datetime</th>\n",
       "      <th>latitude</th>\n",
       "      <th>longitude</th>\n",
       "      <th>report_location</th>\n",
       "      <th>incident_number</th>\n",
       "      <th>:@computed_region_ru88_fbhk</th>\n",
       "      <th>:@computed_region_kuhn_3gp2</th>\n",
       "      <th>:@computed_region_q256_3sug</th>\n",
       "      <th>:@computed_region_2day_rhn5</th>\n",
       "      <th>:@computed_region_cyqu_gs94</th>\n",
       "    </tr>\n",
       "  </thead>\n",
       "  <tbody>\n",
       "    <tr>\n",
       "      <th>0</th>\n",
       "      <td>4416 S Brandon St</td>\n",
       "      <td>Aid Response</td>\n",
       "      <td>2024-10-04T10:08:00.000</td>\n",
       "      <td>47.553402</td>\n",
       "      <td>-122.279146</td>\n",
       "      <td>{'type': 'Point', 'coordinates': [-122.279146,...</td>\n",
       "      <td>F240137234</td>\n",
       "      <td>11</td>\n",
       "      <td>43</td>\n",
       "      <td>18800</td>\n",
       "      <td>NaN</td>\n",
       "      <td>NaN</td>\n",
       "    </tr>\n",
       "    <tr>\n",
       "      <th>1</th>\n",
       "      <td>4TH AVE / JEFFERSON ST</td>\n",
       "      <td>Aid Response</td>\n",
       "      <td>2024-10-04T09:58:00.000</td>\n",
       "      <td>47.60252</td>\n",
       "      <td>-122.329645</td>\n",
       "      <td>{'type': 'Point', 'coordinates': [-122.329645,...</td>\n",
       "      <td>F240137232</td>\n",
       "      <td>14</td>\n",
       "      <td>22</td>\n",
       "      <td>18379</td>\n",
       "      <td>NaN</td>\n",
       "      <td>NaN</td>\n",
       "    </tr>\n",
       "    <tr>\n",
       "      <th>2</th>\n",
       "      <td>111 Cedar St</td>\n",
       "      <td>Medic Response</td>\n",
       "      <td>2024-10-04T09:56:00.000</td>\n",
       "      <td>47.615877</td>\n",
       "      <td>-122.35052</td>\n",
       "      <td>{'type': 'Point', 'coordinates': [-122.35052, ...</td>\n",
       "      <td>F240137231</td>\n",
       "      <td>5</td>\n",
       "      <td>9</td>\n",
       "      <td>19576</td>\n",
       "      <td>NaN</td>\n",
       "      <td>NaN</td>\n",
       "    </tr>\n",
       "    <tr>\n",
       "      <th>3</th>\n",
       "      <td>3801 34th Ave W</td>\n",
       "      <td>Aid Response</td>\n",
       "      <td>2024-10-04T09:55:00.000</td>\n",
       "      <td>47.654056</td>\n",
       "      <td>-122.400899</td>\n",
       "      <td>{'type': 'Point', 'coordinates': [-122.400899,...</td>\n",
       "      <td>F240137230</td>\n",
       "      <td>33</td>\n",
       "      <td>27</td>\n",
       "      <td>18235</td>\n",
       "      <td>NaN</td>\n",
       "      <td>NaN</td>\n",
       "    </tr>\n",
       "    <tr>\n",
       "      <th>4</th>\n",
       "      <td>118 Ne 45th St</td>\n",
       "      <td>Aid Response</td>\n",
       "      <td>2024-10-04T09:49:00.000</td>\n",
       "      <td>47.661359</td>\n",
       "      <td>-122.328075</td>\n",
       "      <td>{'type': 'Point', 'coordinates': [-122.328075,...</td>\n",
       "      <td>F240137229</td>\n",
       "      <td>61</td>\n",
       "      <td>3</td>\n",
       "      <td>18383</td>\n",
       "      <td>NaN</td>\n",
       "      <td>NaN</td>\n",
       "    </tr>\n",
       "  </tbody>\n",
       "</table>\n",
       "</div>"
      ],
      "text/plain": [
       "                  address            type                 datetime   latitude  \\\n",
       "0       4416 S Brandon St    Aid Response  2024-10-04T10:08:00.000  47.553402   \n",
       "1  4TH AVE / JEFFERSON ST    Aid Response  2024-10-04T09:58:00.000   47.60252   \n",
       "2            111 Cedar St  Medic Response  2024-10-04T09:56:00.000  47.615877   \n",
       "3         3801 34th Ave W    Aid Response  2024-10-04T09:55:00.000  47.654056   \n",
       "4          118 Ne 45th St    Aid Response  2024-10-04T09:49:00.000  47.661359   \n",
       "\n",
       "     longitude                                    report_location  \\\n",
       "0  -122.279146  {'type': 'Point', 'coordinates': [-122.279146,...   \n",
       "1  -122.329645  {'type': 'Point', 'coordinates': [-122.329645,...   \n",
       "2   -122.35052  {'type': 'Point', 'coordinates': [-122.35052, ...   \n",
       "3  -122.400899  {'type': 'Point', 'coordinates': [-122.400899,...   \n",
       "4  -122.328075  {'type': 'Point', 'coordinates': [-122.328075,...   \n",
       "\n",
       "  incident_number :@computed_region_ru88_fbhk :@computed_region_kuhn_3gp2  \\\n",
       "0      F240137234                          11                          43   \n",
       "1      F240137232                          14                          22   \n",
       "2      F240137231                           5                           9   \n",
       "3      F240137230                          33                          27   \n",
       "4      F240137229                          61                           3   \n",
       "\n",
       "  :@computed_region_q256_3sug :@computed_region_2day_rhn5  \\\n",
       "0                       18800                         NaN   \n",
       "1                       18379                         NaN   \n",
       "2                       19576                         NaN   \n",
       "3                       18235                         NaN   \n",
       "4                       18383                         NaN   \n",
       "\n",
       "  :@computed_region_cyqu_gs94  \n",
       "0                         NaN  \n",
       "1                         NaN  \n",
       "2                         NaN  \n",
       "3                         NaN  \n",
       "4                         NaN  "
      ]
     },
     "execution_count": 461,
     "metadata": {},
     "output_type": "execute_result"
    }
   ],
   "source": [
    "data911DF.head()"
   ]
  },
  {
   "cell_type": "code",
   "execution_count": 462,
   "metadata": {},
   "outputs": [
    {
     "name": "stdout",
     "output_type": "stream",
     "text": [
      "<class 'pandas.core.frame.DataFrame'>\n",
      "RangeIndex: 1000 entries, 0 to 999\n",
      "Data columns (total 12 columns):\n",
      " #   Column                       Non-Null Count  Dtype \n",
      "---  ------                       --------------  ----- \n",
      " 0   address                      1000 non-null   object\n",
      " 1   type                         1000 non-null   object\n",
      " 2   datetime                     1000 non-null   object\n",
      " 3   latitude                     999 non-null    object\n",
      " 4   longitude                    999 non-null    object\n",
      " 5   report_location              999 non-null    object\n",
      " 6   incident_number              1000 non-null   object\n",
      " 7   :@computed_region_ru88_fbhk  994 non-null    object\n",
      " 8   :@computed_region_kuhn_3gp2  994 non-null    object\n",
      " 9   :@computed_region_q256_3sug  999 non-null    object\n",
      " 10  :@computed_region_2day_rhn5  76 non-null     object\n",
      " 11  :@computed_region_cyqu_gs94  71 non-null     object\n",
      "dtypes: object(12)\n",
      "memory usage: 93.9+ KB\n"
     ]
    }
   ],
   "source": [
    "data911DF.info()"
   ]
  },
  {
   "cell_type": "markdown",
   "metadata": {},
   "source": [
    "As you see, the datetime is not recognized as date:"
   ]
  },
  {
   "cell_type": "code",
   "execution_count": 463,
   "metadata": {},
   "outputs": [
    {
     "data": {
      "text/plain": [
       "0      2024-10-04T10:08:00.000\n",
       "1      2024-10-04T09:58:00.000\n",
       "2      2024-10-04T09:56:00.000\n",
       "3      2024-10-04T09:55:00.000\n",
       "4      2024-10-04T09:49:00.000\n",
       "                ...           \n",
       "995    2024-10-01T16:39:00.000\n",
       "996    2024-10-01T16:37:00.000\n",
       "997    2024-10-01T16:36:00.000\n",
       "998    2024-10-01T16:35:00.000\n",
       "999    2024-10-01T16:30:00.000\n",
       "Name: datetime, Length: 1000, dtype: object"
      ]
     },
     "execution_count": 463,
     "metadata": {},
     "output_type": "execute_result"
    }
   ],
   "source": [
    "data911DF.datetime"
   ]
  },
  {
   "cell_type": "code",
   "execution_count": 464,
   "metadata": {},
   "outputs": [
    {
     "data": {
      "text/plain": [
       "'2024-10-04T10:08:00.000'"
      ]
     },
     "execution_count": 464,
     "metadata": {},
     "output_type": "execute_result"
    }
   ],
   "source": [
    "data911DF.datetime[0]"
   ]
  },
  {
   "cell_type": "code",
   "execution_count": 465,
   "metadata": {},
   "outputs": [
    {
     "data": {
      "text/plain": [
       "0     2024-10-04 10:08:00\n",
       "1     2024-10-04 09:58:00\n",
       "2     2024-10-04 09:56:00\n",
       "3     2024-10-04 09:55:00\n",
       "4     2024-10-04 09:49:00\n",
       "              ...        \n",
       "995   2024-10-01 16:39:00\n",
       "996   2024-10-01 16:37:00\n",
       "997   2024-10-01 16:36:00\n",
       "998   2024-10-01 16:35:00\n",
       "999   2024-10-01 16:30:00\n",
       "Name: datetime, Length: 1000, dtype: datetime64[ns]"
      ]
     },
     "execution_count": 465,
     "metadata": {},
     "output_type": "execute_result"
    }
   ],
   "source": [
    "#check\n",
    "pd.to_datetime(data911DF.datetime)"
   ]
  },
  {
   "cell_type": "code",
   "execution_count": 466,
   "metadata": {},
   "outputs": [
    {
     "name": "stdout",
     "output_type": "stream",
     "text": [
      "<class 'pandas.core.frame.DataFrame'>\n",
      "RangeIndex: 1000 entries, 0 to 999\n",
      "Data columns (total 12 columns):\n",
      " #   Column                       Non-Null Count  Dtype         \n",
      "---  ------                       --------------  -----         \n",
      " 0   address                      1000 non-null   object        \n",
      " 1   type                         1000 non-null   object        \n",
      " 2   datetime                     1000 non-null   datetime64[ns]\n",
      " 3   latitude                     999 non-null    object        \n",
      " 4   longitude                    999 non-null    object        \n",
      " 5   report_location              999 non-null    object        \n",
      " 6   incident_number              1000 non-null   object        \n",
      " 7   :@computed_region_ru88_fbhk  994 non-null    object        \n",
      " 8   :@computed_region_kuhn_3gp2  994 non-null    object        \n",
      " 9   :@computed_region_q256_3sug  999 non-null    object        \n",
      " 10  :@computed_region_2day_rhn5  76 non-null     object        \n",
      " 11  :@computed_region_cyqu_gs94  71 non-null     object        \n",
      "dtypes: datetime64[ns](1), object(11)\n",
      "memory usage: 93.9+ KB\n"
     ]
    }
   ],
   "source": [
    "# then,\n",
    "data911DF['datetime']=pd.to_datetime(data911DF.datetime)\n",
    "data911DF.info()"
   ]
  },
  {
   "cell_type": "code",
   "execution_count": 469,
   "metadata": {},
   "outputs": [],
   "source": [
    "data911DF=data911DF.iloc[:,:7]"
   ]
  },
  {
   "cell_type": "code",
   "execution_count": 470,
   "metadata": {},
   "outputs": [],
   "source": [
    "data911DF['date']=data911DF.datetime.dt.date\n",
    "data911DF['year']=data911DF.datetime.dt.year\n",
    "data911DF['month']=data911DF.datetime.dt.month_name()\n",
    "data911DF['weekday']=data911DF.datetime.dt.day_name()\n",
    "data911DF['hour']=data911DF.datetime.dt.hour"
   ]
  },
  {
   "cell_type": "code",
   "execution_count": 471,
   "metadata": {},
   "outputs": [
    {
     "name": "stdout",
     "output_type": "stream",
     "text": [
      "<class 'pandas.core.frame.DataFrame'>\n",
      "RangeIndex: 1000 entries, 0 to 999\n",
      "Data columns (total 12 columns):\n",
      " #   Column           Non-Null Count  Dtype         \n",
      "---  ------           --------------  -----         \n",
      " 0   address          1000 non-null   object        \n",
      " 1   type             1000 non-null   object        \n",
      " 2   datetime         1000 non-null   datetime64[ns]\n",
      " 3   latitude         999 non-null    object        \n",
      " 4   longitude        999 non-null    object        \n",
      " 5   report_location  999 non-null    object        \n",
      " 6   incident_number  1000 non-null   object        \n",
      " 7   date             1000 non-null   object        \n",
      " 8   year             1000 non-null   int32         \n",
      " 9   month            1000 non-null   object        \n",
      " 10  weekday          1000 non-null   object        \n",
      " 11  hour             1000 non-null   int32         \n",
      "dtypes: datetime64[ns](1), int32(2), object(9)\n",
      "memory usage: 86.1+ KB\n"
     ]
    }
   ],
   "source": [
    "data911DF.info()"
   ]
  },
  {
   "cell_type": "code",
   "execution_count": 472,
   "metadata": {},
   "outputs": [
    {
     "data": {
      "text/html": [
       "<div>\n",
       "<style scoped>\n",
       "    .dataframe tbody tr th:only-of-type {\n",
       "        vertical-align: middle;\n",
       "    }\n",
       "\n",
       "    .dataframe tbody tr th {\n",
       "        vertical-align: top;\n",
       "    }\n",
       "\n",
       "    .dataframe thead th {\n",
       "        text-align: right;\n",
       "    }\n",
       "</style>\n",
       "<table border=\"1\" class=\"dataframe\">\n",
       "  <thead>\n",
       "    <tr style=\"text-align: right;\">\n",
       "      <th></th>\n",
       "      <th>address</th>\n",
       "      <th>type</th>\n",
       "      <th>datetime</th>\n",
       "      <th>latitude</th>\n",
       "      <th>longitude</th>\n",
       "      <th>report_location</th>\n",
       "      <th>incident_number</th>\n",
       "      <th>date</th>\n",
       "      <th>year</th>\n",
       "      <th>month</th>\n",
       "      <th>weekday</th>\n",
       "      <th>hour</th>\n",
       "    </tr>\n",
       "  </thead>\n",
       "  <tbody>\n",
       "    <tr>\n",
       "      <th>0</th>\n",
       "      <td>4416 S Brandon St</td>\n",
       "      <td>Aid Response</td>\n",
       "      <td>2024-10-04 10:08:00</td>\n",
       "      <td>47.553402</td>\n",
       "      <td>-122.279146</td>\n",
       "      <td>{'type': 'Point', 'coordinates': [-122.279146,...</td>\n",
       "      <td>F240137234</td>\n",
       "      <td>2024-10-04</td>\n",
       "      <td>2024</td>\n",
       "      <td>October</td>\n",
       "      <td>Friday</td>\n",
       "      <td>10</td>\n",
       "    </tr>\n",
       "    <tr>\n",
       "      <th>1</th>\n",
       "      <td>4TH AVE / JEFFERSON ST</td>\n",
       "      <td>Aid Response</td>\n",
       "      <td>2024-10-04 09:58:00</td>\n",
       "      <td>47.60252</td>\n",
       "      <td>-122.329645</td>\n",
       "      <td>{'type': 'Point', 'coordinates': [-122.329645,...</td>\n",
       "      <td>F240137232</td>\n",
       "      <td>2024-10-04</td>\n",
       "      <td>2024</td>\n",
       "      <td>October</td>\n",
       "      <td>Friday</td>\n",
       "      <td>9</td>\n",
       "    </tr>\n",
       "    <tr>\n",
       "      <th>2</th>\n",
       "      <td>111 Cedar St</td>\n",
       "      <td>Medic Response</td>\n",
       "      <td>2024-10-04 09:56:00</td>\n",
       "      <td>47.615877</td>\n",
       "      <td>-122.35052</td>\n",
       "      <td>{'type': 'Point', 'coordinates': [-122.35052, ...</td>\n",
       "      <td>F240137231</td>\n",
       "      <td>2024-10-04</td>\n",
       "      <td>2024</td>\n",
       "      <td>October</td>\n",
       "      <td>Friday</td>\n",
       "      <td>9</td>\n",
       "    </tr>\n",
       "    <tr>\n",
       "      <th>3</th>\n",
       "      <td>3801 34th Ave W</td>\n",
       "      <td>Aid Response</td>\n",
       "      <td>2024-10-04 09:55:00</td>\n",
       "      <td>47.654056</td>\n",
       "      <td>-122.400899</td>\n",
       "      <td>{'type': 'Point', 'coordinates': [-122.400899,...</td>\n",
       "      <td>F240137230</td>\n",
       "      <td>2024-10-04</td>\n",
       "      <td>2024</td>\n",
       "      <td>October</td>\n",
       "      <td>Friday</td>\n",
       "      <td>9</td>\n",
       "    </tr>\n",
       "    <tr>\n",
       "      <th>4</th>\n",
       "      <td>118 Ne 45th St</td>\n",
       "      <td>Aid Response</td>\n",
       "      <td>2024-10-04 09:49:00</td>\n",
       "      <td>47.661359</td>\n",
       "      <td>-122.328075</td>\n",
       "      <td>{'type': 'Point', 'coordinates': [-122.328075,...</td>\n",
       "      <td>F240137229</td>\n",
       "      <td>2024-10-04</td>\n",
       "      <td>2024</td>\n",
       "      <td>October</td>\n",
       "      <td>Friday</td>\n",
       "      <td>9</td>\n",
       "    </tr>\n",
       "  </tbody>\n",
       "</table>\n",
       "</div>"
      ],
      "text/plain": [
       "                  address            type            datetime   latitude  \\\n",
       "0       4416 S Brandon St    Aid Response 2024-10-04 10:08:00  47.553402   \n",
       "1  4TH AVE / JEFFERSON ST    Aid Response 2024-10-04 09:58:00   47.60252   \n",
       "2            111 Cedar St  Medic Response 2024-10-04 09:56:00  47.615877   \n",
       "3         3801 34th Ave W    Aid Response 2024-10-04 09:55:00  47.654056   \n",
       "4          118 Ne 45th St    Aid Response 2024-10-04 09:49:00  47.661359   \n",
       "\n",
       "     longitude                                    report_location  \\\n",
       "0  -122.279146  {'type': 'Point', 'coordinates': [-122.279146,...   \n",
       "1  -122.329645  {'type': 'Point', 'coordinates': [-122.329645,...   \n",
       "2   -122.35052  {'type': 'Point', 'coordinates': [-122.35052, ...   \n",
       "3  -122.400899  {'type': 'Point', 'coordinates': [-122.400899,...   \n",
       "4  -122.328075  {'type': 'Point', 'coordinates': [-122.328075,...   \n",
       "\n",
       "  incident_number        date  year    month weekday  hour  \n",
       "0      F240137234  2024-10-04  2024  October  Friday    10  \n",
       "1      F240137232  2024-10-04  2024  October  Friday     9  \n",
       "2      F240137231  2024-10-04  2024  October  Friday     9  \n",
       "3      F240137230  2024-10-04  2024  October  Friday     9  \n",
       "4      F240137229  2024-10-04  2024  October  Friday     9  "
      ]
     },
     "execution_count": 472,
     "metadata": {},
     "output_type": "execute_result"
    }
   ],
   "source": [
    "data911DF.head()"
   ]
  },
  {
   "cell_type": "code",
   "execution_count": 483,
   "metadata": {},
   "outputs": [
    {
     "name": "stdout",
     "output_type": "stream",
     "text": [
      "<class 'pandas.core.frame.DataFrame'>\n",
      "RangeIndex: 1000 entries, 0 to 999\n",
      "Data columns (total 12 columns):\n",
      " #   Column           Non-Null Count  Dtype         \n",
      "---  ------           --------------  -----         \n",
      " 0   address          1000 non-null   object        \n",
      " 1   type             1000 non-null   object        \n",
      " 2   datetime         1000 non-null   datetime64[ns]\n",
      " 3   latitude         999 non-null    object        \n",
      " 4   longitude        999 non-null    object        \n",
      " 5   report_location  999 non-null    object        \n",
      " 6   incident_number  1000 non-null   object        \n",
      " 7   date             1000 non-null   datetime64[ns]\n",
      " 8   year             1000 non-null   int32         \n",
      " 9   month            1000 non-null   object        \n",
      " 10  weekday          1000 non-null   object        \n",
      " 11  hour             1000 non-null   int32         \n",
      "dtypes: datetime64[ns](2), int32(2), object(8)\n",
      "memory usage: 86.1+ KB\n"
     ]
    }
   ],
   "source": [
    "data911DF['date']=pd.to_datetime(data911DF.date,format='%Y-%m-%d')\n",
    "data911DF.info()"
   ]
  },
  {
   "cell_type": "code",
   "execution_count": 488,
   "metadata": {},
   "outputs": [
    {
     "data": {
      "text/plain": [
       "0   2024-12-10\n",
       "1   2024-10-12\n",
       "dtype: datetime64[ns]"
      ]
     },
     "execution_count": 488,
     "metadata": {},
     "output_type": "execute_result"
    }
   ],
   "source": [
    "dates=['20241210','20241012']\n",
    "pd.to_datetime(pd.Series(dates),format='%Y%m%d')"
   ]
  },
  {
   "cell_type": "code",
   "execution_count": 493,
   "metadata": {},
   "outputs": [
    {
     "data": {
      "text/plain": [
       "0   2024-12-10\n",
       "1   2024-10-12\n",
       "dtype: datetime64[ns]"
      ]
     },
     "execution_count": 493,
     "metadata": {},
     "output_type": "execute_result"
    }
   ],
   "source": [
    "dates=['2024/12/10','2024/10/12']\n",
    "pd.to_datetime(pd.Series(dates),format='%Y/%m/%d')"
   ]
  },
  {
   "cell_type": "code",
   "execution_count": 494,
   "metadata": {},
   "outputs": [
    {
     "data": {
      "text/plain": [
       "0   2023-11-12\n",
       "1   2023-12-11\n",
       "dtype: datetime64[ns]"
      ]
     },
     "execution_count": 494,
     "metadata": {},
     "output_type": "execute_result"
    }
   ],
   "source": [
    "dates=['12nov2023','11dec2023']\n",
    "pd.to_datetime(pd.Series(dates),format='%d%b%Y')"
   ]
  },
  {
   "cell_type": "code",
   "execution_count": 495,
   "metadata": {},
   "outputs": [
    {
     "data": {
      "text/plain": [
       "0   2023-11-12\n",
       "1   2023-12-11\n",
       "dtype: datetime64[ns]"
      ]
     },
     "execution_count": 495,
     "metadata": {},
     "output_type": "execute_result"
    }
   ],
   "source": [
    "dates=['NOVEMBER122023','DECEMBER112023']\n",
    "pd.to_datetime(pd.Series(dates),format='%B%d%Y')"
   ]
  },
  {
   "cell_type": "code",
   "execution_count": 496,
   "metadata": {},
   "outputs": [
    {
     "data": {
      "text/plain": [
       "0   2023-11-12\n",
       "1   2023-12-11\n",
       "dtype: datetime64[ns]"
      ]
     },
     "execution_count": 496,
     "metadata": {},
     "output_type": "execute_result"
    }
   ],
   "source": [
    "dates=['NOVEMBER 12,2023','DECEMBER 11,2023']\n",
    "pd.to_datetime(pd.Series(dates),format='%B %d,%Y')"
   ]
  },
  {
   "cell_type": "code",
   "execution_count": null,
   "metadata": {},
   "outputs": [],
   "source": []
  }
 ],
 "metadata": {
  "anaconda-cloud": {},
  "kernelspec": {
   "display_name": "Python 3 (ipykernel)",
   "language": "python",
   "name": "python3"
  },
  "language_info": {
   "codemirror_mode": {
    "name": "ipython",
    "version": 3
   },
   "file_extension": ".py",
   "mimetype": "text/x-python",
   "name": "python",
   "nbconvert_exporter": "python",
   "pygments_lexer": "ipython3",
   "version": "3.12.0"
  }
 },
 "nbformat": 4,
 "nbformat_minor": 4
}
